{
 "cells": [
  {
   "cell_type": "markdown",
   "id": "4cc4bed4-fb6b-4e72-9924-b5869fddd347",
   "metadata": {},
   "source": [
    "**ASSIGNMENT**"
   ]
  },
  {
   "cell_type": "code",
   "execution_count": null,
   "id": "f3c52bd8-9fe8-4ea3-83f9-e43f0e6ed0b1",
   "metadata": {},
   "outputs": [],
   "source": []
  },
  {
   "cell_type": "code",
   "execution_count": null,
   "id": "49dd8322-3209-497d-bfee-4f6e0ffe1601",
   "metadata": {},
   "outputs": [],
   "source": [
    "Q]]  You are given a sorted array of integers where every element \n",
    "appears exactly twice, except for one element which appears only once. \n",
    "Write a Python program to find that unique element using \n",
    "both Linear Search and Binary Search. \n",
    "\n",
    "        Input: arr = [1, 1, 2, 2, 3, 3, 4, 5, 5] \n",
    "\n",
    "Linear Search: Implement the standard linear search \n",
    "to find the unique element. \n",
    "\n",
    "Binary Search: Implement an optimized binary search algorithm \n",
    "to find the unique element in O(log n) time, \n",
    "exploiting the fact that the array is sorted. \n",
    "\n",
    "After implementing both approaches, \n",
    "compare the time complexities of each approach and \n",
    "discuss which approach is more efficient in terms of performance."
   ]
  },
  {
   "cell_type": "code",
   "execution_count": null,
   "id": "f6ae39fe-f1fb-449a-a31d-e8810bde262f",
   "metadata": {},
   "outputs": [],
   "source": [
    "# LINEAR SEARCH"
   ]
  },
  {
   "cell_type": "code",
   "execution_count": 1,
   "id": "a366b51c-4346-4a81-b793-8c308427e4a8",
   "metadata": {},
   "outputs": [
    {
     "data": {
      "text/plain": [
       "4"
      ]
     },
     "execution_count": 1,
     "metadata": {},
     "output_type": "execute_result"
    }
   ],
   "source": [
    "def linear_search(list):\n",
    "    n=len(list)\n",
    "    for i in range(0,n,2):\n",
    "            if list[i]!=list[i+1]:\n",
    "                return list[i]\n",
    "    return -1\n",
    "\n",
    "list=[1,1,2,2,3,3,4,5,5]\n",
    "\n",
    "linear_search(list)\n",
    "\n"
   ]
  },
  {
   "cell_type": "code",
   "execution_count": null,
   "id": "d6b999fb-c955-4c28-868f-3fedd9cdf413",
   "metadata": {},
   "outputs": [],
   "source": [
    " TIME COMPLREXITY : O(n)"
   ]
  },
  {
   "cell_type": "code",
   "execution_count": null,
   "id": "9dd55d8d-4b71-401a-b3f9-3eae11833d7b",
   "metadata": {},
   "outputs": [],
   "source": []
  },
  {
   "cell_type": "code",
   "execution_count": null,
   "id": "1464451b-f7ad-475c-9e79-bcef42fe158b",
   "metadata": {},
   "outputs": [],
   "source": [
    "#BINARY SEARCH"
   ]
  },
  {
   "cell_type": "code",
   "execution_count": 2,
   "id": "c3b848e0-f2ff-4daf-9aff-fb07f6aea9c7",
   "metadata": {},
   "outputs": [
    {
     "data": {
      "text/plain": [
       "4"
      ]
     },
     "execution_count": 2,
     "metadata": {},
     "output_type": "execute_result"
    }
   ],
   "source": [
    "def binary_search(list):\n",
    "    n=len(list)\n",
    "    low=0\n",
    "    high=n-1\n",
    "    while low<=high:\n",
    "        \n",
    "        mid=(low+high)//2\n",
    "        if list[mid]!=list[mid+1] and list[mid]!=list[mid-1]:\n",
    "            return list[mid]\n",
    "        elif (mid % 2 == 0 and list[mid] == list[mid + 1]) or (mid % 2 == 1 and list[mid] == list[mid - 1]) :\n",
    "            low=mid+1\n",
    "        else:\n",
    "            high=mid-1\n",
    "    return -1\n",
    "\n",
    "list=[1,1,2,2,3,3,4,5,5]\n",
    "\n",
    "binary_search(list)"
   ]
  },
  {
   "cell_type": "code",
   "execution_count": null,
   "id": "826eebf5-90af-41bf-a8ba-cf27d9dbe952",
   "metadata": {},
   "outputs": [],
   "source": [
    " TIME COMPLREXITY : O(logn)"
   ]
  }
 ],
 "metadata": {
  "kernelspec": {
   "display_name": "Python 3 (ipykernel)",
   "language": "python",
   "name": "python3"
  },
  "language_info": {
   "codemirror_mode": {
    "name": "ipython",
    "version": 3
   },
   "file_extension": ".py",
   "mimetype": "text/x-python",
   "name": "python",
   "nbconvert_exporter": "python",
   "pygments_lexer": "ipython3",
   "version": "3.12.4"
  }
 },
 "nbformat": 4,
 "nbformat_minor": 5
}
