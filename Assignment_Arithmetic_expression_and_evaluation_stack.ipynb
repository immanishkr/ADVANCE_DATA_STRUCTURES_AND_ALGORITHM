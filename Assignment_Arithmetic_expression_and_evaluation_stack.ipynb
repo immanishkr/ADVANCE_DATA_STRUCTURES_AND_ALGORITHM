{
 "cells": [
  {
   "cell_type": "code",
   "execution_count": 1,
   "id": "a1f8836b-ac57-4460-a530-5ca83a24eebd",
   "metadata": {},
   "outputs": [
    {
     "name": "stdout",
     "output_type": "stream",
     "text": [
      "Prefix Expression: +A/-B*CDE\n"
     ]
    }
   ],
   "source": [
    "def precedence(op):\n",
    "    if op in ('+', '-'):\n",
    "        return 1\n",
    "    if op in ('*', '/'):\n",
    "        return 2\n",
    "    return 0\n",
    "\n",
    "def infix_to_prefix(expression):\n",
    "    def is_operator(c):\n",
    "        return c in {'+', '-', '*', '/'}\n",
    "    \n",
    "    def infix_to_postfix(expr):\n",
    "        stack = []\n",
    "        output = []\n",
    "        for char in expr:\n",
    "            if char.isalnum():\n",
    "                output.append(char)\n",
    "            elif char == '(':\n",
    "                stack.append(char)\n",
    "            elif char == ')':\n",
    "                while stack and stack[-1] != '(':\n",
    "                    output.append(stack.pop())\n",
    "                stack.pop()\n",
    "            else:\n",
    "                while stack and precedence(stack[-1]) >= precedence(char):\n",
    "                    output.append(stack.pop())\n",
    "                stack.append(char)\n",
    "        while stack:\n",
    "            output.append(stack.pop())\n",
    "        return ''.join(output)\n",
    "    \n",
    "    expression = expression[::-1]  \n",
    "    expression = ''.join(['(' if char == ')' else ')' if char == '(' else char for char in expression])\n",
    "    postfix = infix_to_postfix(expression)  \n",
    "    prefix = postfix[::-1] \n",
    "    return prefix\n",
    "\n",
    "\n",
    "expression = \"A+(B-C*D)/E\"\n",
    "print(\"Prefix Expression:\", infix_to_prefix(expression))\n"
   ]
  }
 ],
 "metadata": {
  "kernelspec": {
   "display_name": "Python 3 (ipykernel)",
   "language": "python",
   "name": "python3"
  },
  "language_info": {
   "codemirror_mode": {
    "name": "ipython",
    "version": 3
   },
   "file_extension": ".py",
   "mimetype": "text/x-python",
   "name": "python",
   "nbconvert_exporter": "python",
   "pygments_lexer": "ipython3",
   "version": "3.12.4"
  }
 },
 "nbformat": 4,
 "nbformat_minor": 5
}
