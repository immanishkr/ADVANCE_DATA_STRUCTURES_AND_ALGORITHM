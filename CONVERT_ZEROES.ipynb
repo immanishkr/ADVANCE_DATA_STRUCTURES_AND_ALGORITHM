{
 "cells": [
  {
   "cell_type": "code",
   "execution_count": null,
   "id": "f0cb0836-3cf7-4ae6-8640-6eed5a153b1a",
   "metadata": {},
   "outputs": [],
   "source": [
    "def setZeroes(matrix):\n",
    "    rows = len(matrix)\n",
    "    cols = len(matrix[0])\n",
    "\n",
    "    \n",
    "    zero_positions = [(i, j) for i in range(rows) for j in range(cols) if matrix[i][j] == 0]\n",
    "\n",
    "    \n",
    "    for i, j in zero_positions:\n",
    "        for k in range(cols):\n",
    "            matrix[i][k] = 0 \n",
    "        for k in range(rows):\n",
    "            matrix[k][j] = 0  \n",
    "\n",
    "\n",
    "matrix = [\n",
    "    [1, 1, 1],\n",
    "    [1, 0, 1],\n",
    "    [1, 1, 1]\n",
    "]\n",
    "\n",
    "\n",
    "setZeroes(matrix)\n",
    "\n",
    "\n",
    "for row in matrix:\n",
    "    print(row)"
   ]
  }
 ],
 "metadata": {
  "kernelspec": {
   "display_name": "Python 3 (ipykernel)",
   "language": "python",
   "name": "python3"
  },
  "language_info": {
   "codemirror_mode": {
    "name": "ipython",
    "version": 3
   },
   "file_extension": ".py",
   "mimetype": "text/x-python",
   "name": "python",
   "nbconvert_exporter": "python",
   "pygments_lexer": "ipython3",
   "version": "3.12.4"
  }
 },
 "nbformat": 4,
 "nbformat_minor": 5
}
