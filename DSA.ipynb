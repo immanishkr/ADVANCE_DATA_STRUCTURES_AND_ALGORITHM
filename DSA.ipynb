{
 "cells": [
  {
   "cell_type": "markdown",
   "id": "c67cff67-63f3-4303-8c21-072725988ba0",
   "metadata": {},
   "source": [
    "***GCD***"
   ]
  },
  {
   "cell_type": "code",
   "execution_count": 54,
   "id": "816ecf51-dc1e-4648-8082-055fa16bc8e9",
   "metadata": {},
   "outputs": [],
   "source": [
    "def gcd(m,n):\n",
    "    list1=[]\n",
    "    list2=[]\n",
    "    list3=[]\n",
    "    for i in range(1,m+1):\n",
    "        if m%i==0:\n",
    "            list1.append(i)\n",
    "\n",
    "    for j in range(1,n+1):\n",
    "        if n%j==0:\n",
    "            list2.append(j)\n",
    "\n",
    "    for i in list1:\n",
    "        if i in list2:\n",
    "            list3.append(i)\n",
    "\n",
    "    print(list3[-1])"
   ]
  },
  {
   "cell_type": "code",
   "execution_count": 55,
   "id": "e9e12fe3-f6ad-4433-be2f-ad51e18ae155",
   "metadata": {},
   "outputs": [
    {
     "name": "stdout",
     "output_type": "stream",
     "text": [
      "7\n"
     ]
    }
   ],
   "source": [
    "gcd(14,63)"
   ]
  },
  {
   "cell_type": "markdown",
   "id": "8e95682d-79b3-4e2f-a54f-c070f8b50e67",
   "metadata": {},
   "source": [
    "gcd(14,63)\n"
   ]
  },
  {
   "cell_type": "code",
   "execution_count": 10,
   "id": "f081067e-160c-48b0-a245-7c563a65eaef",
   "metadata": {},
   "outputs": [],
   "source": [
    "def gcd(m,n):\n",
    "    cf=[]\n",
    "    for i in range(1,min(m,n)+1):\n",
    "        if m%i==0 and n%i==0:\n",
    "            cf.append(i)\n",
    "    return (cf[-1])"
   ]
  },
  {
   "cell_type": "code",
   "execution_count": 11,
   "id": "04f8c21f-f16c-4da1-bf2e-a44f94d07aa5",
   "metadata": {},
   "outputs": [
    {
     "data": {
      "text/plain": [
       "7"
      ]
     },
     "execution_count": 11,
     "metadata": {},
     "output_type": "execute_result"
    }
   ],
   "source": [
    "gcd(14,63)"
   ]
  },
  {
   "cell_type": "code",
   "execution_count": 43,
   "id": "db86e360-812b-4ec1-9190-0d11180da962",
   "metadata": {},
   "outputs": [],
   "source": [
    "def gcd(m,n):\n",
    "    \n",
    "    for i in range(1,min(m,n)+1):\n",
    "        if m%i==0 and n%i==0:\n",
    "            mrcf=i\n",
    "    return (mrcf)"
   ]
  },
  {
   "cell_type": "code",
   "execution_count": 44,
   "id": "70ec071c-48ef-4bae-b60a-3e2ab4ab7009",
   "metadata": {},
   "outputs": [
    {
     "data": {
      "text/plain": [
       "7"
      ]
     },
     "execution_count": 44,
     "metadata": {},
     "output_type": "execute_result"
    }
   ],
   "source": [
    "gcd(14,63)"
   ]
  },
  {
   "cell_type": "code",
   "execution_count": 6,
   "id": "095ac1ad-1555-492d-8c35-71a4d69ce106",
   "metadata": {},
   "outputs": [],
   "source": [
    "# using backward scan/loop\n",
    "\n",
    "def gcd(m, n):\n",
    "    for i in range(min(m, n), 0, -1):  \n",
    "        if m % i == 0 and n % i == 0:\n",
    "            return i  \n"
   ]
  },
  {
   "cell_type": "code",
   "execution_count": 7,
   "id": "40e0c486-16c7-4d8d-a263-3f744c32f56d",
   "metadata": {},
   "outputs": [
    {
     "data": {
      "text/plain": [
       "7"
      ]
     },
     "execution_count": 7,
     "metadata": {},
     "output_type": "execute_result"
    }
   ],
   "source": [
    "gcd(14,63)"
   ]
  },
  {
   "cell_type": "code",
   "execution_count": 44,
   "id": "335d9d40-e4ed-4844-a4b6-80759b9ce0a2",
   "metadata": {},
   "outputs": [],
   "source": [
    "def gcd(m,n):\n",
    "    i=min(m,n)\n",
    "    while i>0:\n",
    "        if m%i==0 and n%i==0:\n",
    "            return i\n",
    "        else:\n",
    "            i=i-1"
   ]
  },
  {
   "cell_type": "code",
   "execution_count": 45,
   "id": "cbc55dd5-cb63-4362-a193-3ca39d5f55f9",
   "metadata": {},
   "outputs": [
    {
     "data": {
      "text/plain": [
       "7"
      ]
     },
     "execution_count": 45,
     "metadata": {},
     "output_type": "execute_result"
    }
   ],
   "source": [
    "gcd(14,63)"
   ]
  },
  {
   "cell_type": "code",
   "execution_count": null,
   "id": "8aaf50bc-dd87-4bcd-944c-8141952366c5",
   "metadata": {},
   "outputs": [],
   "source": []
  },
  {
   "cell_type": "markdown",
   "id": "2498a517-0409-4389-8d6f-ab4c340d02a5",
   "metadata": {},
   "source": [
    "**EUCLIDEAN**"
   ]
  },
  {
   "cell_type": "code",
   "execution_count": 7,
   "id": "879aeedf-293a-449e-b243-b50f40a3e257",
   "metadata": {},
   "outputs": [],
   "source": [
    "def gcd(m,n):\n",
    "    if n==0:\n",
    "        return m\n",
    "    else:\n",
    "        while n!=0:\n",
    "            m,n=n,m%n\n",
    "        return m\n",
    "            "
   ]
  },
  {
   "cell_type": "code",
   "execution_count": 8,
   "id": "26a09ff6-351c-4074-a6fe-4d9c87b67467",
   "metadata": {},
   "outputs": [
    {
     "data": {
      "text/plain": [
       "3"
      ]
     },
     "execution_count": 8,
     "metadata": {},
     "output_type": "execute_result"
    }
   ],
   "source": [
    "gcd(12,33)"
   ]
  },
  {
   "cell_type": "code",
   "execution_count": 1,
   "id": "465fcaf3-a481-45f7-bf70-5b2c24e135af",
   "metadata": {},
   "outputs": [],
   "source": [
    "# RECCURSION\n",
    "\n",
    "def gcd(m,n):\n",
    "    if n==0:\n",
    "        return m\n",
    "    else:\n",
    "        return gcd(n,m % n)\n",
    "        return n"
   ]
  },
  {
   "cell_type": "code",
   "execution_count": 2,
   "id": "d6e19220-6405-430f-8b07-0501c608cdb0",
   "metadata": {},
   "outputs": [
    {
     "data": {
      "text/plain": [
       "3"
      ]
     },
     "execution_count": 2,
     "metadata": {},
     "output_type": "execute_result"
    }
   ],
   "source": [
    "gcd(12,33)"
   ]
  },
  {
   "cell_type": "code",
   "execution_count": 21,
   "id": "3709fec7-a8ac-4986-bcae-5020758f9b14",
   "metadata": {},
   "outputs": [],
   "source": [
    "def f(x):\n",
    "   if x>0:\n",
    "       f(x-1)\n",
    "       f(x-2)\n",
    "       print(x)"
   ]
  },
  {
   "cell_type": "code",
   "execution_count": 22,
   "id": "d0b5d7d7-d142-465d-b472-b3b17db6565e",
   "metadata": {},
   "outputs": [
    {
     "name": "stdout",
     "output_type": "stream",
     "text": [
      "1\n",
      "2\n",
      "1\n",
      "3\n",
      "1\n",
      "2\n",
      "4\n",
      "1\n",
      "2\n",
      "1\n",
      "3\n",
      "5\n"
     ]
    }
   ],
   "source": [
    "f(5)"
   ]
  },
  {
   "cell_type": "code",
   "execution_count": 7,
   "id": "bc275f3f-b837-4fc0-9482-e90e3fd0ce68",
   "metadata": {
    "scrolled": true
   },
   "outputs": [
    {
     "name": "stdin",
     "output_type": "stream",
     "text": [
      "enter the size= 5\n",
      " 1 2 3 4 5\n"
     ]
    },
    {
     "name": "stdout",
     "output_type": "stream",
     "text": [
      "[5, 4, 3, 2, 1]\n"
     ]
    }
   ],
   "source": [
    "n=int(input(\"enter the size=\"))\n",
    "data=list(map(int,input(\"\").split()))\n",
    "x = data[::-1]\n",
    "    \n",
    "print(x)"
   ]
  },
  {
   "cell_type": "code",
   "execution_count": null,
   "id": "d6618eec-df22-469c-ae67-f2ce785ad38c",
   "metadata": {},
   "outputs": [],
   "source": []
  },
  {
   "cell_type": "markdown",
   "id": "43cabde9-77e0-46b1-a2c1-2f4926c91d8f",
   "metadata": {},
   "source": [
    "**ARRAY**"
   ]
  },
  {
   "cell_type": "code",
   "execution_count": 35,
   "id": "648561de-e6de-40d4-a354-dba5232da76e",
   "metadata": {},
   "outputs": [],
   "source": [
    "import array as arr"
   ]
  },
  {
   "cell_type": "code",
   "execution_count": 24,
   "id": "47337c82-61aa-4bda-b569-2d4984f9df3b",
   "metadata": {},
   "outputs": [
    {
     "name": "stdout",
     "output_type": "stream",
     "text": [
      "2\n",
      "10\n",
      "0\n",
      "15\n",
      "55\n"
     ]
    }
   ],
   "source": [
    "x=arr.array('i',[2,10,0,15,55])\n",
    "type(x)\n",
    "for i in x:\n",
    "    print(i)"
   ]
  },
  {
   "cell_type": "code",
   "execution_count": 19,
   "id": "c8a3a5be-950b-467a-92b4-f6e036c44ab2",
   "metadata": {},
   "outputs": [
    {
     "name": "stdout",
     "output_type": "stream",
     "text": [
      "2\n",
      "10\n",
      "0\n",
      "20\n",
      "15\n",
      "55\n"
     ]
    }
   ],
   "source": [
    "x.insert(3,20)\n",
    "for i in x:\n",
    "    print(i)"
   ]
  },
  {
   "cell_type": "code",
   "execution_count": 30,
   "id": "8450ef86-8d6b-450c-a227-9245e45fa244",
   "metadata": {},
   "outputs": [
    {
     "ename": "ValueError",
     "evalue": "array.remove(x): x not in array",
     "output_type": "error",
     "traceback": [
      "\u001b[1;31m---------------------------------------------------------------------------\u001b[0m",
      "\u001b[1;31mValueError\u001b[0m                                Traceback (most recent call last)",
      "Cell \u001b[1;32mIn[30], line 1\u001b[0m\n\u001b[1;32m----> 1\u001b[0m x\u001b[38;5;241m.\u001b[39mremove(\u001b[38;5;241m20\u001b[39m)\n\u001b[0;32m      2\u001b[0m \u001b[38;5;28;01mfor\u001b[39;00m i \u001b[38;5;129;01min\u001b[39;00m x:\n\u001b[0;32m      3\u001b[0m     \u001b[38;5;28mprint\u001b[39m(i)\n",
      "\u001b[1;31mValueError\u001b[0m: array.remove(x): x not in array"
     ]
    }
   ],
   "source": [
    "x.remove(20)\n",
    "for i in x:\n",
    "    print(i)"
   ]
  },
  {
   "cell_type": "code",
   "execution_count": 26,
   "id": "2d3138ea-0ba1-4cc6-9678-ee7f9267e748",
   "metadata": {},
   "outputs": [
    {
     "name": "stdout",
     "output_type": "stream",
     "text": [
      "2\n",
      "10\n",
      "0\n",
      "15\n",
      "55\n"
     ]
    }
   ],
   "source": [
    "x.index(0)\n",
    "for i in x:\n",
    "    print(i)"
   ]
  },
  {
   "cell_type": "code",
   "execution_count": 27,
   "id": "f562dfe4-3763-4d81-b8e4-4cdcc42f2d29",
   "metadata": {},
   "outputs": [
    {
     "name": "stdout",
     "output_type": "stream",
     "text": [
      "2\n",
      "30\n",
      "0\n",
      "15\n",
      "55\n"
     ]
    }
   ],
   "source": [
    "#update\n",
    "\n",
    "x[1]=30  \n",
    "for i in x:\n",
    "    print(i)"
   ]
  },
  {
   "cell_type": "code",
   "execution_count": 9,
   "id": "ff3004eb-40f4-4e9a-bb17-bf5c76ab2492",
   "metadata": {},
   "outputs": [],
   "source": [
    "import numpy as np"
   ]
  },
  {
   "cell_type": "code",
   "execution_count": 16,
   "id": "277060b7-334b-4985-9708-eb366c3eec3b",
   "metadata": {},
   "outputs": [
    {
     "name": "stdout",
     "output_type": "stream",
     "text": [
      "2\n",
      "10\n",
      "0\n",
      "15\n",
      "55\n"
     ]
    }
   ],
   "source": [
    "y=np.array([2,10,0,15,55])\n",
    "type(y)\n",
    "for i in y:\n",
    "    print(i)"
   ]
  },
  {
   "cell_type": "code",
   "execution_count": 12,
   "id": "3a40183c-0ca8-4ff9-98cf-d755354e5452",
   "metadata": {},
   "outputs": [
    {
     "name": "stdout",
     "output_type": "stream",
     "text": [
      "2\n",
      "55\n"
     ]
    }
   ],
   "source": [
    "print(x[0])\n",
    "print(x[4])"
   ]
  },
  {
   "cell_type": "code",
   "execution_count": 15,
   "id": "233d3fb4-0099-4cc4-a7ca-1e26fe5309d4",
   "metadata": {},
   "outputs": [
    {
     "ename": "AttributeError",
     "evalue": "'numpy.ndarray' object has no attribute 'insert'",
     "output_type": "error",
     "traceback": [
      "\u001b[1;31m---------------------------------------------------------------------------\u001b[0m",
      "\u001b[1;31mAttributeError\u001b[0m                            Traceback (most recent call last)",
      "Cell \u001b[1;32mIn[15], line 1\u001b[0m\n\u001b[1;32m----> 1\u001b[0m x\u001b[38;5;241m.\u001b[39minsert(\u001b[38;5;241m3\u001b[39m,\u001b[38;5;241m20\u001b[39m)\n\u001b[0;32m      2\u001b[0m \u001b[38;5;28;01mfor\u001b[39;00m i \u001b[38;5;129;01min\u001b[39;00m x:\n\u001b[0;32m      3\u001b[0m     \u001b[38;5;28mprint\u001b[39m(i)\n",
      "\u001b[1;31mAttributeError\u001b[0m: 'numpy.ndarray' object has no attribute 'insert'"
     ]
    }
   ],
   "source": [
    "x.insert(3,20)\n",
    "for i in x:\n",
    "    print(i)"
   ]
  },
  {
   "cell_type": "code",
   "execution_count": 1,
   "id": "d02195cf-43d7-42e9-9089-69c5ee385065",
   "metadata": {},
   "outputs": [
    {
     "name": "stdin",
     "output_type": "stream",
     "text": [
      "Enter the size:  5\n",
      "Enter the elements:  1 2 3 4 5\n"
     ]
    },
    {
     "name": "stdout",
     "output_type": "stream",
     "text": [
      "[5, 4, 3, 2, 1]\n"
     ]
    }
   ],
   "source": [
    "n = int(input(\"Enter the size: \"))\n",
    "a = list(map(int, input(\"Enter the elements: \").split()))\n",
    "\n",
    "x = a[::-1]\n",
    "    \n",
    "print(x)"
   ]
  },
  {
   "cell_type": "code",
   "execution_count": 11,
   "id": "fdd6b8fd-40e1-4038-ae59-585d3a0ce669",
   "metadata": {
    "scrolled": true
   },
   "outputs": [
    {
     "name": "stdout",
     "output_type": "stream",
     "text": [
      "[120, 60, 40, 30, 24]\n"
     ]
    }
   ],
   "source": [
    "n = [1, 2, 3, 4, 5]\n",
    "m = []\n",
    "\n",
    "for i in range(len(n)):\n",
    "    prod = 1\n",
    "    for j in range(len(n)):\n",
    "        if i != j:\n",
    "            prod *= n[j]\n",
    "            \n",
    "    m.append(prod)\n",
    "\n",
    "print(m)\n"
   ]
  },
  {
   "cell_type": "code",
   "execution_count": 6,
   "id": "e8863eaf-d848-4a92-9957-f240164bb6ee",
   "metadata": {},
   "outputs": [
    {
     "name": "stdout",
     "output_type": "stream",
     "text": [
      "[120, 0, 0, 0, 0]\n"
     ]
    }
   ],
   "source": [
    "n = [1, 2, 3, 4, 5]\n",
    "m = []\n",
    "t=[]\n",
    "\n",
    "for i in range(len(n)):\n",
    "    prod = 1\n",
    "    l=1\n",
    "    for j in range(len(n)):\n",
    "        if i != j:\n",
    "            prod *= n[j]//n[i]\n",
    "            \n",
    "    m.append(prod)\n",
    "\n",
    "\n",
    "\n",
    "print(m)\n"
   ]
  },
  {
   "cell_type": "code",
   "execution_count": 46,
   "id": "7a324833-b12d-427e-b323-20d491e02b13",
   "metadata": {},
   "outputs": [
    {
     "name": "stdout",
     "output_type": "stream",
     "text": [
      "[120, 60, 40, 30, 24]\n"
     ]
    }
   ],
   "source": [
    "def multiply_and_divide(numbers):\n",
    "\n",
    "  product = 1\n",
    "  for num in numbers:\n",
    "    product *= num\n",
    "\n",
    "  results = [product // num for num in numbers]\n",
    "  return results\n",
    "\n",
    "numbers = [1,2, 3, 4, 5]\n",
    "output = multiply_and_divide(numbers)\n",
    "print(output)"
   ]
  },
  {
   "cell_type": "code",
   "execution_count": null,
   "id": "c4742ed3-5b23-408a-bab8-80549c4e53e8",
   "metadata": {},
   "outputs": [],
   "source": []
  },
  {
   "cell_type": "code",
   "execution_count": null,
   "id": "1f865539-141f-4c4f-a5b6-0c4aca72d3dc",
   "metadata": {},
   "outputs": [],
   "source": [
    "# All numbers with specific difference"
   ]
  },
  {
   "cell_type": "code",
   "execution_count": 1,
   "id": "5b6112d2-42ec-4b91-8f3e-2efd497765cd",
   "metadata": {},
   "outputs": [
    {
     "name": "stdout",
     "output_type": "stream",
     "text": [
      "4\n"
     ]
    }
   ],
   "source": [
    "\n",
    "\n",
    "\n",
    "n=13\n",
    "d=2\n",
    "l=1\n",
    "h=13\n",
    "\n",
    "while l<=h:\n",
    "\n",
    "    m=(l+h)//d\n",
    "    s=sum(int(digit) for digit in str(m))\n",
    "    if (m-s)<=d:\n",
    "        l=m+1\n",
    "    else:\n",
    "        h=m-1\n",
    "\n",
    "x=n-h\n",
    "print(x)\n",
    "        "
   ]
  },
  {
   "cell_type": "code",
   "execution_count": 13,
   "id": "356b5620-3b3c-4865-b5ad-28ab8ada42c5",
   "metadata": {},
   "outputs": [],
   "source": [
    "#left rotation\n",
    "\n",
    "def new(k):\n",
    "    arr=[10,20,30,40]\n",
    "    n=len(arr)\n",
    "    if k>n:\n",
    "        k=k-n\n",
    "    elif k==0:\n",
    "        print('no rotation')\n",
    "    else:\n",
    "        return arr[k:]+arr[:k] \n"
   ]
  },
  {
   "cell_type": "code",
   "execution_count": 14,
   "id": "6b356ca8-b833-4c80-b0d0-f47e5b266c67",
   "metadata": {},
   "outputs": [
    {
     "data": {
      "text/plain": [
       "[30, 40, 10, 20]"
      ]
     },
     "execution_count": 14,
     "metadata": {},
     "output_type": "execute_result"
    }
   ],
   "source": [
    "new(2)"
   ]
  },
  {
   "cell_type": "code",
   "execution_count": 24,
   "id": "9bf63fed-fd25-4836-aad7-3bdfa0f27b01",
   "metadata": {},
   "outputs": [],
   "source": [
    "from array import*\n",
    "\n"
   ]
  },
  {
   "cell_type": "code",
   "execution_count": 25,
   "id": "1b817e6c-66f2-47ff-be6f-c9a830d63f7c",
   "metadata": {},
   "outputs": [
    {
     "name": "stdout",
     "output_type": "stream",
     "text": [
      "10\n",
      "20\n",
      "30\n",
      "40\n",
      "50\n"
     ]
    }
   ],
   "source": [
    "array1=array('i',[10,20,30,40,50])\n",
    "for x in array1:\n",
    "    print(x)"
   ]
  },
  {
   "cell_type": "code",
   "execution_count": 26,
   "id": "82141379-2e0c-49f3-8506-3e3419a62cd2",
   "metadata": {},
   "outputs": [
    {
     "name": "stdout",
     "output_type": "stream",
     "text": [
      "10\n",
      "30\n"
     ]
    }
   ],
   "source": [
    "\n",
    "\n",
    "print(array1[0])\n",
    "print(array1[2])"
   ]
  },
  {
   "cell_type": "code",
   "execution_count": 27,
   "id": "5923d106-7625-45d1-8f4b-ec6f393843a9",
   "metadata": {},
   "outputs": [
    {
     "name": "stdout",
     "output_type": "stream",
     "text": [
      "10\n",
      "60\n",
      "20\n",
      "30\n",
      "40\n",
      "50\n"
     ]
    }
   ],
   "source": [
    "array1.insert(1,60)\n",
    "for x in array1:\n",
    "    print(x)"
   ]
  },
  {
   "cell_type": "code",
   "execution_count": 28,
   "id": "94d21d41-4dbf-4a53-aee8-537a72575e91",
   "metadata": {},
   "outputs": [
    {
     "name": "stdout",
     "output_type": "stream",
     "text": [
      "10\n",
      "60\n",
      "20\n",
      "30\n",
      "40\n",
      "60\n",
      "50\n"
     ]
    }
   ],
   "source": [
    "array1.insert(5,60)\n",
    "for x in array1:\n",
    "    print(x)"
   ]
  },
  {
   "cell_type": "code",
   "execution_count": 29,
   "id": "c79a59cc-23d7-42da-9b7c-3d8b64db8265",
   "metadata": {},
   "outputs": [
    {
     "name": "stdout",
     "output_type": "stream",
     "text": [
      "10\n",
      "60\n",
      "20\n",
      "30\n",
      "60\n",
      "50\n"
     ]
    }
   ],
   "source": [
    "array1.remove(40) #in deletion the index moves backward\n",
    "for x in array1:\n",
    "    print(x)"
   ]
  },
  {
   "cell_type": "code",
   "execution_count": 30,
   "id": "4f2c23dd-2aee-4d0d-8d28-336af05d9d29",
   "metadata": {},
   "outputs": [
    {
     "name": "stdout",
     "output_type": "stream",
     "text": [
      "5\n"
     ]
    }
   ],
   "source": [
    "print(array1.index(50))  #searching"
   ]
  },
  {
   "cell_type": "code",
   "execution_count": 37,
   "id": "960992d3-2d69-4602-afa8-c8e6f739a0fd",
   "metadata": {},
   "outputs": [
    {
     "ename": "TypeError",
     "evalue": "'tuple' object does not support item assignment",
     "output_type": "error",
     "traceback": [
      "\u001b[1;31m---------------------------------------------------------------------------\u001b[0m",
      "\u001b[1;31mTypeError\u001b[0m                                 Traceback (most recent call last)",
      "Cell \u001b[1;32mIn[37], line 5\u001b[0m\n\u001b[0;32m      2\u001b[0m \u001b[38;5;28;01mfrom\u001b[39;00m \u001b[38;5;21;01marray\u001b[39;00m \u001b[38;5;28;01mimport\u001b[39;00m\u001b[38;5;241m*\u001b[39m\n\u001b[0;32m      4\u001b[0m array2\u001b[38;5;241m=\u001b[39m(\u001b[38;5;124m'\u001b[39m\u001b[38;5;124mi\u001b[39m\u001b[38;5;124m'\u001b[39m,[\u001b[38;5;241m10\u001b[39m,\u001b[38;5;241m20\u001b[39m,\u001b[38;5;241m30\u001b[39m,\u001b[38;5;241m40\u001b[39m,\u001b[38;5;241m50\u001b[39m])\n\u001b[1;32m----> 5\u001b[0m array2[\u001b[38;5;241m20\u001b[39m]\u001b[38;5;241m=\u001b[39m\u001b[38;5;241m80\u001b[39m\n\u001b[0;32m      6\u001b[0m \u001b[38;5;28;01mfor\u001b[39;00m x \u001b[38;5;129;01min\u001b[39;00m array2:\n\u001b[0;32m      7\u001b[0m     \u001b[38;5;28mprint\u001b[39m(x)\n",
      "\u001b[1;31mTypeError\u001b[0m: 'tuple' object does not support item assignment"
     ]
    }
   ],
   "source": [
    "#update\n",
    "from array import*\n",
    "\n",
    "array2=('i',[10,20,30,40,50])\n",
    "array2[20]=80\n",
    "for x in array2:\n",
    "    print(x)"
   ]
  },
  {
   "cell_type": "code",
   "execution_count": 35,
   "id": "c37c3cb4-fcdf-4619-9622-3f9f96048c72",
   "metadata": {},
   "outputs": [],
   "source": [
    "from array import*"
   ]
  },
  {
   "cell_type": "code",
   "execution_count": 40,
   "id": "41ecc34d-4a35-492b-9f51-40343fe9e44c",
   "metadata": {},
   "outputs": [
    {
     "ename": "NameError",
     "evalue": "name 'array3' is not defined",
     "output_type": "error",
     "traceback": [
      "\u001b[1;31m---------------------------------------------------------------------------\u001b[0m",
      "\u001b[1;31mNameError\u001b[0m                                 Traceback (most recent call last)",
      "Cell \u001b[1;32mIn[40], line 12\u001b[0m\n\u001b[0;32m      9\u001b[0m     avg\u001b[38;5;241m=\u001b[39m\u001b[38;5;28msum\u001b[39m\u001b[38;5;241m/\u001b[39m\u001b[38;5;241m/\u001b[39ml\n\u001b[0;32m     10\u001b[0m     \u001b[38;5;28;01mreturn\u001b[39;00m \u001b[38;5;28msum\u001b[39m,avg\n\u001b[1;32m---> 12\u001b[0m new(array3)\n",
      "\u001b[1;31mNameError\u001b[0m: name 'array3' is not defined"
     ]
    }
   ],
   "source": [
    "def new2(array3):\n",
    "    array3=('i',[10,20,30,40])\n",
    "    \n",
    "    sum=0\n",
    "    for x in array3:\n",
    "        sum=sum+x\n",
    "\n",
    "    l=len(array3)\n",
    "    avg=sum//l\n",
    "    return sum,avg\n",
    "\n",
    "new(array3)\n",
    "    \n",
    "    "
   ]
  },
  {
   "cell_type": "code",
   "execution_count": 39,
   "id": "007fef5d-f716-47ed-945f-263e656d223f",
   "metadata": {},
   "outputs": [
    {
     "name": "stdout",
     "output_type": "stream",
     "text": [
      "(50, 12.5)\n"
     ]
    }
   ],
   "source": [
    "import numpy as np\n",
    "x=np.array([5,10,15,20])\n",
    "def calc(x):\n",
    "    l=len(x)\n",
    "    add=np.sum(x)\n",
    "    avg=add/l\n",
    "    return add,avg\n",
    "\n",
    "result=calc(x)\n",
    "print(result)"
   ]
  },
  {
   "cell_type": "code",
   "execution_count": 41,
   "id": "40f8510d-a577-4def-8de8-7d4a428d1454",
   "metadata": {},
   "outputs": [
    {
     "name": "stdout",
     "output_type": "stream",
     "text": [
      "[20 15 10  5]\n"
     ]
    }
   ],
   "source": [
    "#reverse a array\n",
    "\n",
    "import numpy as np\n",
    "x=np.array([5,10,15,20])\n",
    "print(x[::-1])\n"
   ]
  },
  {
   "cell_type": "code",
   "execution_count": 2,
   "id": "d1b3354a-23e3-4662-8aa9-b0235ba06c4e",
   "metadata": {},
   "outputs": [
    {
     "name": "stdout",
     "output_type": "stream",
     "text": [
      "20\n",
      "15\n",
      "10\n",
      "5\n"
     ]
    }
   ],
   "source": [
    "import numpy as np\n",
    "x=np.array([5,10,15,20])\n",
    "n=len(x)\n",
    "\n",
    "for i in range(n-1,-1,-1):\n",
    "    print(x[i])"
   ]
  },
  {
   "cell_type": "code",
   "execution_count": 7,
   "id": "4ab5183d-4996-41e6-93aa-10cb92991730",
   "metadata": {},
   "outputs": [
    {
     "name": "stdout",
     "output_type": "stream",
     "text": [
      "[5, 10, 15, 20]\n"
     ]
    }
   ],
   "source": [
    "#duplicates\n",
    "\n",
    "#using looping and membership operator\n",
    "\n",
    "import numpy as np\n",
    "x=np.array([5,10,15,20,20,15])\n",
    "new_arr=[]\n",
    "for i in x:\n",
    "    if i not in new_arr:\n",
    "        new_arr.append(i)\n",
    "\n",
    "print(new_arr)\n"
   ]
  },
  {
   "cell_type": "code",
   "execution_count": 4,
   "id": "308e3b3e-ebae-427f-8649-ec06862fbd10",
   "metadata": {},
   "outputs": [
    {
     "name": "stdout",
     "output_type": "stream",
     "text": [
      "[5, 10, 15, 20]\n"
     ]
    }
   ],
   "source": [
    "import numpy as np\n",
    "x=np.array([5,10,15,20,20,15])\n",
    "def dup(x):\n",
    "    n_arr=[]\n",
    "    for i in x:\n",
    "        if i not in n_arr:\n",
    "            n_arr.append(i)\n",
    "    return n_arr\n",
    "\n",
    "result=dup(x)\n",
    "print(result)\n",
    "\n"
   ]
  },
  {
   "cell_type": "code",
   "execution_count": 11,
   "id": "fc40dc04-735b-4722-b1df-97fb33dd6258",
   "metadata": {},
   "outputs": [
    {
     "name": "stdout",
     "output_type": "stream",
     "text": [
      "[10 20  5 15]\n"
     ]
    }
   ],
   "source": [
    "# using type conversion\n",
    "\n",
    "import numpy as np\n",
    "x=np.array([5,10,15,20,20,15])\n",
    "\n",
    "def ndup(x):\n",
    "    res=list(set(x))\n",
    "    return np.array(res)\n",
    "\n",
    "result=ndup(x)\n",
    "type(result)\n",
    "print(result)\n",
    "    \n"
   ]
  },
  {
   "cell_type": "code",
   "execution_count": 17,
   "id": "4467abcb-2df3-47d5-bf99-b7e259391b4f",
   "metadata": {},
   "outputs": [],
   "source": [
    "# index of an element\n",
    "\n",
    "array=('i',[10,20,30,40,50])\n",
    "def new(n):\n",
    "    try:\n",
    "        \n",
    "        for x in array:\n",
    "            if x==n:\n",
    "                return array.index(n)\n",
    "    except ValueError:\n",
    "        return -1\n",
    "            "
   ]
  },
  {
   "cell_type": "code",
   "execution_count": 18,
   "id": "40e5a888-6245-4063-b5a9-ee322b3fbf07",
   "metadata": {},
   "outputs": [],
   "source": [
    "new(10)"
   ]
  },
  {
   "cell_type": "code",
   "execution_count": 23,
   "id": "aa35b2f1-e19a-4356-a8c1-d431d22477c0",
   "metadata": {},
   "outputs": [
    {
     "name": "stdout",
     "output_type": "stream",
     "text": [
      "array('i', [40, 30])\n"
     ]
    }
   ],
   "source": [
    "from array import*\n",
    "\n",
    "arr=('i',[10,20,30,40])\n",
    "vrr=('i',[30,40,50,60])\n",
    "\n",
    "x=set(arr[1])\n",
    "y=set(vrr[1])\n",
    "\n",
    "result=x&y\n",
    "new=array('i',result)\n",
    "print(new)"
   ]
  },
  {
   "cell_type": "code",
   "execution_count": 1,
   "id": "b69e3029-345f-4d36-92e9-847a8319ef53",
   "metadata": {},
   "outputs": [],
   "source": [
    "from array import*"
   ]
  },
  {
   "cell_type": "code",
   "execution_count": 16,
   "id": "bbdc95b0-07d2-425d-aa77-57b6f3dd942e",
   "metadata": {},
   "outputs": [
    {
     "name": "stdout",
     "output_type": "stream",
     "text": [
      "Last occurence 1: 7\n"
     ]
    }
   ],
   "source": [
    "# last index of one\n",
    "\n",
    "import numpy as np\n",
    "x = np.array([0,0,1,1,0,1,0,1,0])\n",
    "def last_1(x):\n",
    "    index = -1\n",
    "    \n",
    "    for i in range(len(x)):\n",
    "        if x[i] == 1:\n",
    "            index =i\n",
    "    return index\n",
    "print(\"Last occurence 1:\",last_1(x))"
   ]
  },
  {
   "cell_type": "code",
   "execution_count": 36,
   "id": "f2d011ff-531b-4b19-a72c-eb2e3efb5f25",
   "metadata": {},
   "outputs": [
    {
     "name": "stdout",
     "output_type": "stream",
     "text": [
      "(5, 20)\n"
     ]
    }
   ],
   "source": [
    "#min and max value\n",
    "\n",
    "import numpy as np\n",
    "x=np.array([5,10,15,20])\n",
    "def new(x):\n",
    "    minv=np.min(x)\n",
    "    maxv=np.max(x)\n",
    "    return minv, maxv\n",
    "\n",
    "result=new(x)\n",
    "print(result)"
   ]
  },
  {
   "cell_type": "code",
   "execution_count": 37,
   "id": "802e9f70-69ee-4f54-ac01-45974b449e5e",
   "metadata": {},
   "outputs": [
    {
     "data": {
      "text/plain": [
       "(5, 20)"
      ]
     },
     "execution_count": 37,
     "metadata": {},
     "output_type": "execute_result"
    }
   ],
   "source": [
    "new(x)"
   ]
  },
  {
   "cell_type": "code",
   "execution_count": 35,
   "id": "cd51a629-3064-44c4-828b-3b22f64e8f10",
   "metadata": {},
   "outputs": [],
   "source": [
    "# setting 0 and 1 together\n",
    "\n",
    "\n",
    "import numpy as np\n",
    "x = np.array([0,0,1,1,0,1,0,1,0])\n",
    "def last(x):\n",
    "    count=0\n",
    "    store=0\n",
    "    for i in range(len(x)):\n",
    "        if x[i]==0:\n",
    "            count+=1\n",
    "        else:\n",
    "            if x[i]==1:\n",
    "                store+=1\n",
    "    return np.array([1]*store+[0]*count)\n",
    "            \n"
   ]
  },
  {
   "cell_type": "code",
   "execution_count": 36,
   "id": "771511a5-4b3e-407c-8898-7118969dccac",
   "metadata": {},
   "outputs": [
    {
     "data": {
      "text/plain": [
       "array([1, 1, 1, 1, 0, 0, 0, 0, 0])"
      ]
     },
     "execution_count": 36,
     "metadata": {},
     "output_type": "execute_result"
    }
   ],
   "source": [
    "last(x)"
   ]
  },
  {
   "cell_type": "code",
   "execution_count": null,
   "id": "041a33c7-5850-4e1b-89e2-07fab19c8d7e",
   "metadata": {},
   "outputs": [],
   "source": [
    "# addition of matrix"
   ]
  },
  {
   "cell_type": "code",
   "execution_count": null,
   "id": "ee055b3c-64c0-4c94-b7e6-2596e4fbda6f",
   "metadata": {},
   "outputs": [],
   "source": []
  },
  {
   "cell_type": "code",
   "execution_count": null,
   "id": "33a5f4b8-a6f6-4921-bc78-ff74c25c25f1",
   "metadata": {},
   "outputs": [],
   "source": [
    "import numpy as np\n",
    "x1 = np.array([[1,2,3],[4,5,6],[7,8,9]])\n",
    "x2 = np.array([[11,22,33],[44,55,66],[77,88,99]])\n",
    "# result = x1+x2\n",
    "# print(result)\n",
    "def matrix_addition(x1,x2):\n",
    "    result = []\n",
    "    for i in range (len(x1)):\n",
    "        row=[]\n",
    "        for j in range(len(x1[0])):\n",
    "            row.append(x1[i][j] + x2[i][j])\n",
    "        result.append(row)\n",
    "    return result\n",
    "print(matrix_addition(x1,x2))"
   ]
  },
  {
   "cell_type": "markdown",
   "id": "1db73268-8d38-4be4-aebe-5e0037da7c7d",
   "metadata": {},
   "source": [
    "**RECURSION**"
   ]
  },
  {
   "cell_type": "code",
   "execution_count": 13,
   "id": "6d8f5cfb-c735-4702-b0ff-30f92ee2c859",
   "metadata": {},
   "outputs": [],
   "source": [
    "# using recursion\n",
    "\n",
    "def factorial(n):\n",
    "    fact=1\n",
    "    if n==1:\n",
    "        return fact\n",
    "    else:\n",
    "        return n*factorial(n-1)"
   ]
  },
  {
   "cell_type": "code",
   "execution_count": 15,
   "id": "ab50dabc-8b3c-4271-b896-1d4e97d90457",
   "metadata": {},
   "outputs": [
    {
     "data": {
      "text/plain": [
       "120"
      ]
     },
     "execution_count": 15,
     "metadata": {},
     "output_type": "execute_result"
    }
   ],
   "source": [
    "factorial(5)"
   ]
  },
  {
   "cell_type": "code",
   "execution_count": null,
   "id": "b2b58d85-cd3c-4edf-953a-f68f94736fbf",
   "metadata": {},
   "outputs": [],
   "source": [
    "#tower of hanoi"
   ]
  },
  {
   "cell_type": "code",
   "execution_count": null,
   "id": "19c1c2b2-47f2-4bfc-9bc8-20b8da32efa5",
   "metadata": {},
   "outputs": [],
   "source": []
  },
  {
   "cell_type": "code",
   "execution_count": null,
   "id": "f8693b2f-32a1-4a9b-873f-6a0eaa7ab45f",
   "metadata": {},
   "outputs": [],
   "source": [
    "# fibbonacci series"
   ]
  },
  {
   "cell_type": "code",
   "execution_count": 17,
   "id": "997671cf-2c59-47d4-8668-bbdb36a70f87",
   "metadata": {},
   "outputs": [],
   "source": [
    "def fib(n):\n",
    "    n=0\n",
    "    n=1\n",
    "    if n==0:\n",
    "        return 0\n",
    "    elif n==1:\n",
    "        return 1\n",
    "    else: \n",
    "        return f(n-1)+f(n-2)"
   ]
  },
  {
   "cell_type": "code",
   "execution_count": 18,
   "id": "2cb7ad7f-a699-4a0e-9e73-82bf81751caa",
   "metadata": {},
   "outputs": [
    {
     "data": {
      "text/plain": [
       "1"
      ]
     },
     "execution_count": 18,
     "metadata": {},
     "output_type": "execute_result"
    }
   ],
   "source": [
    "fib(6)"
   ]
  },
  {
   "cell_type": "code",
   "execution_count": null,
   "id": "a2b2a268-0b80-4efc-b3e1-6bb74f33d6ad",
   "metadata": {},
   "outputs": [],
   "source": [
    "# TOWER OF HANOI"
   ]
  },
  {
   "cell_type": "code",
   "execution_count": 26,
   "id": "968c2051-e0a2-4637-823e-5b9d5be2df56",
   "metadata": {},
   "outputs": [],
   "source": [
    "def tower(n,a,b,c):\n",
    "    \n",
    "    if n==1:\n",
    "        print(\"move first disc from\",a, \"to\", c)\n",
    "        \n",
    "        return\n",
    "    elif n==0:\n",
    "        return 'error'\n",
    "    else:\n",
    "        tower(n-1,a,c,b)\n",
    "        print(\"move\",n,\"th disk from\",a,\"to\",c)\n",
    "        tower(n-1,b,a,c)\n",
    "    \n",
    "\n",
    "     \n",
    "        "
   ]
  },
  {
   "cell_type": "code",
   "execution_count": 27,
   "id": "ff907d4b-e03f-4980-a843-836c23ce3fdd",
   "metadata": {},
   "outputs": [
    {
     "name": "stdout",
     "output_type": "stream",
     "text": [
      "move first disc from a to b\n",
      "move 2 th disk from a to c\n",
      "move first disc from b to c\n",
      "move 3 th disk from a to b\n",
      "move first disc from c to a\n",
      "move 2 th disk from c to b\n",
      "move first disc from a to b\n",
      "move 4 th disk from a to c\n",
      "move first disc from b to c\n",
      "move 2 th disk from b to a\n",
      "move first disc from c to a\n",
      "move 3 th disk from b to c\n",
      "move first disc from a to b\n",
      "move 2 th disk from a to c\n",
      "move first disc from b to c\n"
     ]
    }
   ],
   "source": [
    "tower(4,'a','b','c')"
   ]
  },
  {
   "cell_type": "code",
   "execution_count": null,
   "id": "3ea3f0be-a6eb-4fa8-848f-ea31f310ba68",
   "metadata": {},
   "outputs": [],
   "source": []
  },
  {
   "cell_type": "code",
   "execution_count": null,
   "id": "1105fc3e-906c-4ca9-9617-c092205db31d",
   "metadata": {},
   "outputs": [],
   "source": []
  },
  {
   "cell_type": "markdown",
   "id": "e0cb0ad6-244a-4a0b-8b90-d38971ed1290",
   "metadata": {},
   "source": [
    "**LINKED LIST**"
   ]
  },
  {
   "cell_type": "code",
   "execution_count": null,
   "id": "b873966d-a33e-4e5a-aba3-f5d0ec573a0e",
   "metadata": {},
   "outputs": [],
   "source": [
    "# OOPs concept"
   ]
  },
  {
   "cell_type": "code",
   "execution_count": 5,
   "id": "04f2e4a1-a363-44b5-9a4f-19476f61f77c",
   "metadata": {},
   "outputs": [
    {
     "name": "stdout",
     "output_type": "stream",
     "text": [
      "Name:manish\n",
      "Age:22\n"
     ]
    }
   ],
   "source": [
    "class Person:\n",
    "    def __init__(self,name,age):\n",
    "        self.name=name\n",
    "        self.age=age\n",
    "    def dispaly(self):\n",
    "        print(f\"Name:{self.name}\")\n",
    "        print(f\"Age:{self.age}\")\n",
    "\n",
    "hello=Person(\"manish\",22)\n",
    "hello.dispaly()\n",
    "        \n",
    "\n"
   ]
  },
  {
   "cell_type": "code",
   "execution_count": 6,
   "id": "86590369-fd34-4e71-a84a-85632a5a6f2a",
   "metadata": {},
   "outputs": [
    {
     "name": "stdout",
     "output_type": "stream",
     "text": [
      "toys\n",
      "gifts\n"
     ]
    }
   ],
   "source": [
    "class Supermarket:\n",
    "    def purchase(unique):\n",
    "        print(\"toys\")\n",
    "        print(\"gifts\")\n",
    "\n",
    "customer=Supermarket()\n",
    "customer.purchase()"
   ]
  },
  {
   "cell_type": "code",
   "execution_count": null,
   "id": "e6f9af92-b390-4b4a-9663-171c5daf2495",
   "metadata": {},
   "outputs": [],
   "source": [
    "class Node:\n",
    "    def __init__(self,data,pointer):\n",
    "        self.data=data\n",
    "        self.pointer=pointer\n",
    "class LinkedList:\n",
    "    def append(self,data):\n",
    "\n",
    "    def display(self):\n",
    "        "
   ]
  },
  {
   "cell_type": "code",
   "execution_count": null,
   "id": "bfc9dbbe-1d80-4e92-a005-3d5fde7f277f",
   "metadata": {},
   "outputs": [],
   "source": [
    "# creating a linked list"
   ]
  },
  {
   "cell_type": "code",
   "execution_count": null,
   "id": "4afabac8-2bb0-485b-aaa2-4d0c6c944516",
   "metadata": {},
   "outputs": [],
   "source": []
  },
  {
   "cell_type": "code",
   "execution_count": null,
   "id": "fdd1ad95-3e69-49f4-8ceb-43774d150d4d",
   "metadata": {},
   "outputs": [],
   "source": []
  },
  {
   "cell_type": "code",
   "execution_count": null,
   "id": "58145323-b9a8-412d-9425-95f1bd9ef9e0",
   "metadata": {},
   "outputs": [],
   "source": []
  },
  {
   "cell_type": "code",
   "execution_count": null,
   "id": "547b56e3-c5e2-449b-9584-3df7f857d66c",
   "metadata": {},
   "outputs": [],
   "source": []
  },
  {
   "cell_type": "code",
   "execution_count": null,
   "id": "be152a60-ff3b-43f0-85c1-1d4be1f0e1ad",
   "metadata": {},
   "outputs": [],
   "source": []
  },
  {
   "cell_type": "code",
   "execution_count": null,
   "id": "7823cf84-6c98-470a-a016-11f3f65fae15",
   "metadata": {},
   "outputs": [],
   "source": []
  },
  {
   "cell_type": "code",
   "execution_count": null,
   "id": "20175147-7efb-4690-b28c-eea361626ae2",
   "metadata": {},
   "outputs": [],
   "source": [
    "# REVERSING LINKED LIST"
   ]
  },
  {
   "cell_type": "code",
   "execution_count": 1,
   "id": "e3bf4ad7-74fa-4810-bed0-977a5703b91c",
   "metadata": {},
   "outputs": [
    {
     "name": "stdout",
     "output_type": "stream",
     "text": [
      "Original Linked List:\n",
      "1 -> 2 -> 3 -> 4 -> None\n",
      "Reversed Linked List:\n",
      "4 -> 3 -> 2 -> 1 -> None\n"
     ]
    }
   ],
   "source": [
    "class Node:\n",
    "    def __init__(self, data):\n",
    "        self.data = data\n",
    "        self.next = None\n",
    "\n",
    "class LinkedList:\n",
    "    def __init__(self):\n",
    "        self.head = None\n",
    "\n",
    "    def append(self, data):\n",
    "        new_node = Node(data)\n",
    "        if not self.head:\n",
    "            self.head = new_node\n",
    "            return\n",
    "        temp = self.head\n",
    "        while temp.next:\n",
    "            temp = temp.next\n",
    "        temp.next = new_node\n",
    "\n",
    "    def print_list(self):\n",
    "        temp = self.head\n",
    "        while temp:\n",
    "            print(temp.data, end=\" -> \")\n",
    "            temp = temp.next\n",
    "        print(\"None\")\n",
    "\n",
    "    def reverse(self):\n",
    "        prev = None\n",
    "        current = self.head\n",
    "        while current:\n",
    "            next_node = current.next  \n",
    "            current.next = prev       \n",
    "            prev = current           \n",
    "            current = next_node      \n",
    "        self.head = prev\n",
    "\n",
    "\n",
    "ll = LinkedList()\n",
    "ll.append(1)\n",
    "ll.append(2)\n",
    "ll.append(3)\n",
    "ll.append(4)\n",
    "\n",
    "print(\"Original Linked List:\")\n",
    "ll.print_list()\n",
    "\n",
    "ll.reverse()\n",
    "print(\"Reversed Linked List:\")\n",
    "ll.print_list()\n"
   ]
  },
  {
   "cell_type": "code",
   "execution_count": null,
   "id": "783e8e09-1b8b-4685-8e3a-f99d333c876e",
   "metadata": {},
   "outputs": [],
   "source": [
    "# Insertion at the begining in a linked list "
   ]
  },
  {
   "cell_type": "code",
   "execution_count": null,
   "id": "0d6ab20f-ee97-4b04-8307-b12e33ae5afb",
   "metadata": {},
   "outputs": [],
   "source": [
    "class node:\n",
    "    def__init__(self, Newdata=None,link=None):\n",
    "    "
   ]
  },
  {
   "cell_type": "code",
   "execution_count": null,
   "id": "c5caf182-fc1b-4ce5-ae67-8537d7cbacc0",
   "metadata": {},
   "outputs": [],
   "source": [
    "# Insertion at the end in a linked list "
   ]
  },
  {
   "cell_type": "code",
   "execution_count": null,
   "id": "b575a952-4295-4811-8c32-5397d9ee773e",
   "metadata": {},
   "outputs": [],
   "source": []
  },
  {
   "cell_type": "code",
   "execution_count": 3,
   "id": "95755720-cdf4-49de-bcb2-d58de53cb0ee",
   "metadata": {},
   "outputs": [
    {
     "ename": "IndentationError",
     "evalue": "unindent does not match any outer indentation level (<string>, line 33)",
     "output_type": "error",
     "traceback": [
      "\u001b[1;36m  File \u001b[1;32m<string>:33\u001b[1;36m\u001b[0m\n\u001b[1;33m    newNode=Node(newData, curNode.next)\u001b[0m\n\u001b[1;37m                                       ^\u001b[0m\n\u001b[1;31mIndentationError\u001b[0m\u001b[1;31m:\u001b[0m unindent does not match any outer indentation level\n"
     ]
    }
   ],
   "source": [
    "class node:\n",
    "    def __init__(self, newData=None, link=None):\n",
    "        self.data=newData\n",
    "        self.next=link\n",
    "\n",
    "class singlelinkedlist:\n",
    "    def __init__(self):\n",
    "        self.Head=None\n",
    "    def insert_end(self, newData):\n",
    "        newNode=Node(newData)\n",
    "        if self.Head is None:\n",
    "            self.Head=newNode\n",
    "        else:\n",
    "            curNode=self.Head\n",
    "            while curnode.next is not None:\n",
    "                curNode=curNode.next\n",
    "            curNode.next=newNode\n",
    "\n",
    "          # function to insert a node at the beginning of the list\n",
    "\n",
    "    def insert_begin(self, newData):\n",
    "         self.Head=Node(newData, self.head)\n",
    "\n",
    "    def insert_before_nth(self.newData, location):\n",
    "         if self.head is None or location ==1:\n",
    "             self.Head=Node(newData, self.Head)\n",
    "         else:\n",
    "             curNode=self.Head\n",
    "             c=1\n",
    "             while c < location - 1 and curNode.next is not None:\n",
    "                 c+=1\n",
    "                 curNode=curNode.next\n",
    "            newNode=Node(newData, curNode.next)\n",
    "            curNode.next=newNode\n",
    "    def insert_after_nth(self, newData, location):\n",
    "        if self.Head is None:\n",
    "            self.Head=Node(newData,self.Head)\n",
    "        else:\n",
    "            curNode=self.Head\n",
    "            c=1\n",
    "            while c<1 location and curNode.next is not None:\n",
    "                c+=1\n",
    "                curNode.next=Node(newData, curNode.next)\n",
    "\n",
    "     def delete_first(self):\n",
    "         if self.Head is None:\n",
    "             print(\"empty list. deletion not possible\")\n",
    "         else:\n",
    "             curNode = self.Head\n",
    "             self.Head=self.Head.next\n",
    "             del(curNode)\n",
    "             print(\"node deleted successfully\")\n",
    "\n",
    "     def delete_last(self):\n",
    "         if self.Head is None:\n",
    "             print(\"empty list. deletion not possible\")\n",
    "         elif self.Head.next is None:\n",
    "             del(self.Head)\n",
    "             self.Head=None\n",
    "         else:\n",
    "             curNode=self.Head\n",
    "             while curNode.next.next is not None:\n",
    "                 curNode=curNode.next\n",
    "             del(curNode.next)\n",
    "             curNode.next=None\n",
    "             print(\"node deleted successfully\")\n",
    "\n",
    "     def delete_anynode(self,num):\n",
    "         if self.Head is None:\n",
    "             print(\"empty list.deletion not possible\")\n",
    "         else:\n",
    "             curNode=self.Head\n",
    "             if curNode.Data==num:\n",
    "                 self.head=self.Head.Next\n",
    "                 del(curNode)\n",
    "                 print(\"Node deleted successfully\")\n",
    "             else:\n",
    "                 flag=0\n",
    "                 prev=None\n",
    "                 while curNode is not None:\n",
    "                     if curNode.Data\n",
    "                \n",
    "\n",
    "\n"
   ]
  },
  {
   "cell_type": "code",
   "execution_count": null,
   "id": "a1983a3c-3870-44f1-bfce-81442ab0ac1d",
   "metadata": {},
   "outputs": [],
   "source": []
  },
  {
   "cell_type": "code",
   "execution_count": null,
   "id": "5bee3c6a-a8d7-488b-87d6-f7a571c0cd36",
   "metadata": {},
   "outputs": [],
   "source": []
  },
  {
   "cell_type": "code",
   "execution_count": null,
   "id": "8a1eff8a-f965-4e99-a022-8cfe7894ac02",
   "metadata": {},
   "outputs": [],
   "source": []
  },
  {
   "cell_type": "code",
   "execution_count": null,
   "id": "87f44494-4786-4915-abb9-6de99eba088a",
   "metadata": {},
   "outputs": [],
   "source": []
  },
  {
   "cell_type": "code",
   "execution_count": null,
   "id": "6282e860-d2bb-4026-9146-40194c48da51",
   "metadata": {},
   "outputs": [],
   "source": []
  },
  {
   "cell_type": "code",
   "execution_count": null,
   "id": "e845488e-257c-446d-9251-dd3d12d6dc03",
   "metadata": {},
   "outputs": [],
   "source": []
  },
  {
   "cell_type": "code",
   "execution_count": null,
   "id": "39ebff5b-03df-4dd5-81d4-9aa776ca296b",
   "metadata": {},
   "outputs": [],
   "source": []
  }
 ],
 "metadata": {
  "kernelspec": {
   "display_name": "Python 3 (ipykernel)",
   "language": "python",
   "name": "python3"
  },
  "language_info": {
   "codemirror_mode": {
    "name": "ipython",
    "version": 3
   },
   "file_extension": ".py",
   "mimetype": "text/x-python",
   "name": "python",
   "nbconvert_exporter": "python",
   "pygments_lexer": "ipython3",
   "version": "3.12.4"
  }
 },
 "nbformat": 4,
 "nbformat_minor": 5
}
