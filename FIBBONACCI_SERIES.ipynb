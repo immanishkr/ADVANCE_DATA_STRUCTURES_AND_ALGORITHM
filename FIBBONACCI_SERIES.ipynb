{
 "cells": [
  {
   "cell_type": "code",
   "execution_count": null,
   "id": "4a5746f8-b091-4709-b60f-54b1dfc190e7",
   "metadata": {},
   "outputs": [],
   "source": [
    "#FIBBONACCI SERIES"
   ]
  },
  {
   "cell_type": "code",
   "execution_count": null,
   "id": "1470a048-a2bd-4a11-acfb-434754760a17",
   "metadata": {},
   "outputs": [],
   "source": [
    "# using recursion\n",
    "\n",
    "def factorial(n):\n",
    "    fact=1\n",
    "    if n==1:\n",
    "        return fact\n",
    "    else:\n",
    "        return n*factorial(n-1)"
   ]
  },
  {
   "cell_type": "code",
   "execution_count": null,
   "id": "f50adad2-dfdc-4f88-893f-b1c2e131564e",
   "metadata": {},
   "outputs": [],
   "source": []
  }
 ],
 "metadata": {
  "kernelspec": {
   "display_name": "Python 3 (ipykernel)",
   "language": "python",
   "name": "python3"
  },
  "language_info": {
   "codemirror_mode": {
    "name": "ipython",
    "version": 3
   },
   "file_extension": ".py",
   "mimetype": "text/x-python",
   "name": "python",
   "nbconvert_exporter": "python",
   "pygments_lexer": "ipython3",
   "version": "3.12.4"
  }
 },
 "nbformat": 4,
 "nbformat_minor": 5
}
