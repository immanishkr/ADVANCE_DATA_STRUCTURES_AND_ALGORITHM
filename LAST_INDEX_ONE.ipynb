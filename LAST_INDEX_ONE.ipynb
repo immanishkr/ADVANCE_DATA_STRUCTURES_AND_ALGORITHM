{
 "cells": [
  {
   "cell_type": "code",
   "execution_count": null,
   "id": "3a7005d8-efdf-4d21-98f2-7b66871968d8",
   "metadata": {},
   "outputs": [],
   "source": [
    "# last index of one\n",
    "\n",
    "import numpy as np\n",
    "x = np.array([0,0,1,1,0,1,0,1,0])\n",
    "def last_1(x):\n",
    "    index = -1\n",
    "    \n",
    "    for i in range(len(x)):\n",
    "        if x[i] == 1:\n",
    "            index =i\n",
    "    return index\n",
    "print(\"Last occurence 1:\",last_1(x))"
   ]
  }
 ],
 "metadata": {
  "kernelspec": {
   "display_name": "Python 3 (ipykernel)",
   "language": "python",
   "name": "python3"
  },
  "language_info": {
   "codemirror_mode": {
    "name": "ipython",
    "version": 3
   },
   "file_extension": ".py",
   "mimetype": "text/x-python",
   "name": "python",
   "nbconvert_exporter": "python",
   "pygments_lexer": "ipython3",
   "version": "3.12.4"
  }
 },
 "nbformat": 4,
 "nbformat_minor": 5
}
