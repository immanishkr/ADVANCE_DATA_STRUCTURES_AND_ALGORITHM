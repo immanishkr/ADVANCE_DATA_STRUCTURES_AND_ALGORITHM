{
 "cells": [
  {
   "cell_type": "code",
   "execution_count": null,
   "id": "39b8ab34-f4c3-4f26-b728-adacbe299bc4",
   "metadata": {},
   "outputs": [],
   "source": [
    "import numpy as np\n",
    "x1 = np.array([[1,2,3],[4,5,6],[7,8,9]])\n",
    "x2 = np.array([[11,22,33],[44,55,66],[77,88,99]])\n",
    "\n",
    "def matrix_addition(x1,x2):\n",
    "    result = []\n",
    "    for i in range (len(x1)):\n",
    "        row=[]\n",
    "        for j in range(len(x1[0])):\n",
    "            row.append(x1[i][j] + x2[i][j])\n",
    "        result.append(row)\n",
    "    return result\n",
    "print(matrix_addition(x1,x2))"
   ]
  }
 ],
 "metadata": {
  "kernelspec": {
   "display_name": "Python 3 (ipykernel)",
   "language": "python",
   "name": "python3"
  },
  "language_info": {
   "codemirror_mode": {
    "name": "ipython",
    "version": 3
   },
   "file_extension": ".py",
   "mimetype": "text/x-python",
   "name": "python",
   "nbconvert_exporter": "python",
   "pygments_lexer": "ipython3",
   "version": "3.12.4"
  }
 },
 "nbformat": 4,
 "nbformat_minor": 5
}
