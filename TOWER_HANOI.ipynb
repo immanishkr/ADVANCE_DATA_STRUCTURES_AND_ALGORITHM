{
 "cells": [
  {
   "cell_type": "code",
   "execution_count": null,
   "id": "0c7a728c-ee2e-4922-a3c0-c0333ba729a3",
   "metadata": {},
   "outputs": [],
   "source": [
    "def tower(n,a,b,c):\n",
    "    \n",
    "    if n==1:\n",
    "        print(\"move first disc from\",a, \"to\", c)\n",
    "        \n",
    "        return\n",
    "    elif n==0:\n",
    "        return 'error'\n",
    "    else:\n",
    "        tower(n-1,a,c,b)\n",
    "        print(\"move\",n,\"th disk from\",a,\"to\",c)\n",
    "        tower(n-1,b,a,c)\n",
    "    \n",
    "\n",
    "     \n",
    "        "
   ]
  }
 ],
 "metadata": {
  "kernelspec": {
   "display_name": "Python 3 (ipykernel)",
   "language": "python",
   "name": "python3"
  },
  "language_info": {
   "codemirror_mode": {
    "name": "ipython",
    "version": 3
   },
   "file_extension": ".py",
   "mimetype": "text/x-python",
   "name": "python",
   "nbconvert_exporter": "python",
   "pygments_lexer": "ipython3",
   "version": "3.12.4"
  }
 },
 "nbformat": 4,
 "nbformat_minor": 5
}
