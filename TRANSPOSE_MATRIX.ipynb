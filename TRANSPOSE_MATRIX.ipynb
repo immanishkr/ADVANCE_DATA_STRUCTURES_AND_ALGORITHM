{
 "cells": [
  {
   "cell_type": "code",
   "execution_count": null,
   "id": "e377d42f-e172-4396-b200-5df8adada6fa",
   "metadata": {},
   "outputs": [],
   "source": [
    "\n",
    "rows = int(input(\"Enter the number of rows: \"))\n",
    "cols = int(input(\"Enter the number of columns: \"))\n",
    "\n",
    "\n",
    "matrix = []\n",
    "\n",
    "\n",
    "print(\"Enter the matrix row by row:\")\n",
    "for i in range(rows):\n",
    "    row = list(map(int, input().split()))\n",
    "    matrix.append(row)\n",
    "\n",
    "\n",
    "transpose = [[matrix[j][i] for j in range(rows)] for i in range(cols)]\n",
    "\n",
    "\n",
    "print(\"Transposed Matrix:\")\n",
    "for row in transpose:\n",
    "    print(\" \".join(map(str, row)))"
   ]
  }
 ],
 "metadata": {
  "kernelspec": {
   "display_name": "Python 3 (ipykernel)",
   "language": "python",
   "name": "python3"
  },
  "language_info": {
   "codemirror_mode": {
    "name": "ipython",
    "version": 3
   },
   "file_extension": ".py",
   "mimetype": "text/x-python",
   "name": "python",
   "nbconvert_exporter": "python",
   "pygments_lexer": "ipython3",
   "version": "3.12.4"
  }
 },
 "nbformat": 4,
 "nbformat_minor": 5
}
