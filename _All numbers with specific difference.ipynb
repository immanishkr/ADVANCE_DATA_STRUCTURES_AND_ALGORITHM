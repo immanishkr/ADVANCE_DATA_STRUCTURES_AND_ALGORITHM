{
 "cells": [
  {
   "cell_type": "code",
   "execution_count": null,
   "id": "bc9e4add-3823-46f0-809b-15ffee6c7d64",
   "metadata": {},
   "outputs": [],
   "source": [
    "# All numbers with specific difference"
   ]
  },
  {
   "cell_type": "code",
   "execution_count": 1,
   "id": "2e83c9b1-c9fe-45d5-861f-f2d338efb8ba",
   "metadata": {},
   "outputs": [
    {
     "name": "stdout",
     "output_type": "stream",
     "text": [
      "4\n"
     ]
    }
   ],
   "source": [
    "\n",
    "\n",
    "\n",
    "n=13\n",
    "d=2\n",
    "l=1\n",
    "h=13\n",
    "\n",
    "while l<=h:\n",
    "\n",
    "    m=(l+h)//d\n",
    "    s=sum(int(digit) for digit in str(m))\n",
    "    if (m-s)<=d:\n",
    "        l=m+1\n",
    "    else:\n",
    "        h=m-1\n",
    "\n",
    "x=n-h\n",
    "print(x)\n",
    "        "
   ]
  }
 ],
 "metadata": {
  "kernelspec": {
   "display_name": "Python 3 (ipykernel)",
   "language": "python",
   "name": "python3"
  },
  "language_info": {
   "codemirror_mode": {
    "name": "ipython",
    "version": 3
   },
   "file_extension": ".py",
   "mimetype": "text/x-python",
   "name": "python",
   "nbconvert_exporter": "python",
   "pygments_lexer": "ipython3",
   "version": "3.12.4"
  }
 },
 "nbformat": 4,
 "nbformat_minor": 5
}
