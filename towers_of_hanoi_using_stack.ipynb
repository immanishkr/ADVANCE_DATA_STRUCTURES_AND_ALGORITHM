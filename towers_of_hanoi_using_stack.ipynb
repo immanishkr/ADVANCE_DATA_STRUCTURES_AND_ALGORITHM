{
 "cells": [
  {
   "cell_type": "code",
   "execution_count": null,
   "id": "819af61f-4a38-479b-821c-3cef85d2554e",
   "metadata": {},
   "outputs": [],
   "source": [
    "# towers of hanoi using stack"
   ]
  },
  {
   "cell_type": "code",
   "execution_count": 1,
   "id": "14071d7e-2088-40a0-87d2-59a4f9d6cc74",
   "metadata": {},
   "outputs": [
    {
     "name": "stdout",
     "output_type": "stream",
     "text": [
      "Move disk 1 from S to D\n",
      "Move disk 2 from S to A\n",
      "Move disk 2 from A to D\n",
      "Move disk 3 from S to D\n",
      "Move disk None from S to A\n",
      "Move disk None from A to D\n",
      "Move disk None from S to D\n"
     ]
    }
   ],
   "source": [
    "class Stack:\n",
    "    def __init__(self):\n",
    "        self.stack = []\n",
    "    \n",
    "    def push(self, item):\n",
    "        self.stack.append(item)\n",
    "    \n",
    "    def pop(self):\n",
    "        if not self.is_empty():\n",
    "            return self.stack.pop()\n",
    "        return None\n",
    "    \n",
    "    def peek(self):\n",
    "        if not self.is_empty():\n",
    "            return self.stack[-1]\n",
    "        return float('inf')  # Simulates an infinitely large disk\n",
    "    \n",
    "    def is_empty(self):\n",
    "        return len(self.stack) == 0\n",
    "    \n",
    "    def __str__(self):\n",
    "        return str(self.stack)\n",
    "\n",
    "def move_disk(from_pole, to_pole, from_stack, to_stack):\n",
    "    disk = from_stack.pop()\n",
    "    to_stack.push(disk)\n",
    "    print(f\"Move disk {disk} from {from_pole} to {to_pole}\")\n",
    "\n",
    "def towers_of_hanoi_iterative(n):\n",
    "    source = Stack()\n",
    "    auxiliary = Stack()\n",
    "    destination = Stack()\n",
    "    \n",
    "    # Initialize source stack with disks\n",
    "    for i in range(n, 0, -1):\n",
    "        source.push(i)\n",
    "    \n",
    "    total_moves = 2**n - 1  # Minimum moves required\n",
    "    \n",
    "    # Assigning poles based on odd/even number of disks\n",
    "    if n % 2 == 0:\n",
    "        aux_pole, dest_pole = \"D\", \"A\"  # Swap destination and auxiliary for even n\n",
    "        aux_stack, dest_stack = destination, auxiliary\n",
    "    else:\n",
    "        aux_pole, dest_pole = \"A\", \"D\"\n",
    "        aux_stack, dest_stack = auxiliary, destination\n",
    "    \n",
    "    # Move disks iteratively\n",
    "    for move in range(1, total_moves + 1):\n",
    "        if move % 3 == 1:\n",
    "            move_disk(\"S\", dest_pole, source, dest_stack)\n",
    "        elif move % 3 == 2:\n",
    "            move_disk(\"S\", aux_pole, source, aux_stack)\n",
    "        elif move % 3 == 0:\n",
    "            move_disk(aux_pole, dest_pole, aux_stack, dest_stack)\n",
    "\n",
    "# Test with 3 disks\n",
    "towers_of_hanoi_iterative(3)\n"
   ]
  }
 ],
 "metadata": {
  "kernelspec": {
   "display_name": "Python 3 (ipykernel)",
   "language": "python",
   "name": "python3"
  },
  "language_info": {
   "codemirror_mode": {
    "name": "ipython",
    "version": 3
   },
   "file_extension": ".py",
   "mimetype": "text/x-python",
   "name": "python",
   "nbconvert_exporter": "python",
   "pygments_lexer": "ipython3",
   "version": "3.12.4"
  }
 },
 "nbformat": 4,
 "nbformat_minor": 5
}
