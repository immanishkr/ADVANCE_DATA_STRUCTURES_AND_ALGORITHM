{
 "cells": [
  {
   "cell_type": "code",
   "execution_count": 1,
   "id": "e14046d7-165c-4158-8d62-705777d1f8ac",
   "metadata": {},
   "outputs": [],
   "source": [
    "# setting 0 and 1 together\n",
    "\n",
    "\n",
    "import numpy as np\n",
    "x = np.array([0,0,1,1,0,1,0,1,0])\n",
    "def last(x):\n",
    "    count=0\n",
    "    store=0\n",
    "    for i in range(len(x)):\n",
    "        if x[i]==0:\n",
    "            count+=1\n",
    "        else:\n",
    "            if x[i]==1:\n",
    "                store+=1\n",
    "    return np.array([1]*store+[0]*count)\n",
    "            \n"
   ]
  },
  {
   "cell_type": "code",
   "execution_count": 2,
   "id": "1f463612-488a-45cd-9d7d-0220d71aabee",
   "metadata": {},
   "outputs": [
    {
     "data": {
      "text/plain": [
       "array([1, 1, 1, 1, 0, 0, 0, 0, 0])"
      ]
     },
     "execution_count": 2,
     "metadata": {},
     "output_type": "execute_result"
    }
   ],
   "source": [
    "last(x)"
   ]
  }
 ],
 "metadata": {
  "kernelspec": {
   "display_name": "Python 3 (ipykernel)",
   "language": "python",
   "name": "python3"
  },
  "language_info": {
   "codemirror_mode": {
    "name": "ipython",
    "version": 3
   },
   "file_extension": ".py",
   "mimetype": "text/x-python",
   "name": "python",
   "nbconvert_exporter": "python",
   "pygments_lexer": "ipython3",
   "version": "3.12.4"
  }
 },
 "nbformat": 4,
 "nbformat_minor": 5
}
